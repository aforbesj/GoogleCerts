{
 "cells": [
  {
   "attachments": {},
   "cell_type": "markdown",
   "metadata": {},
   "source": [
    "# Week 1 - Business Intelligence Visualizations\n",
    "\n",
    "You’ll learn about the foundations of BI dashboards, including how they differ from other data analytics dashboards. You’ll also explore how to use dynamic visualizations to answer business questions. Finally, you’ll develop an understanding of how a dashboard’s interactivity empowers stakeholders.\n",
    "Learning Objectives\n",
    "\n",
    "- Understand how BI visualizations answer a business question.\n",
    "\n",
    "- Understand how BI visualizations rely on trade-offs among various design approaches.\n",
    "\n",
    "- Create low-fidelity mockups to plan BI visualizations.\n",
    "\n",
    "- Explore and use different dashboard tools.\n",
    "\n",
    "- Explain how a dashboard answers business questions.\n",
    "\n",
    "- Describe messaging and interpretations based on a dashboard.\n",
    "\n",
    "- Create a mockup and plan for building a dashboard.\n",
    "\n",
    "- Explore dashboarding tools for dynamic visualizations."
   ]
  },
  {
   "attachments": {},
   "cell_type": "markdown",
   "metadata": {},
   "source": [
    "## Get Started with Data Vizualizations and Dashboards\n",
    "\n"
   ]
  }
 ],
 "metadata": {
  "language_info": {
   "name": "python"
  },
  "orig_nbformat": 4
 },
 "nbformat": 4,
 "nbformat_minor": 2
}
