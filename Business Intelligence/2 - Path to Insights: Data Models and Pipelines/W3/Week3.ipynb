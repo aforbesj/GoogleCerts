{
 "cells": [
  {
   "attachments": {},
   "cell_type": "markdown",
   "metadata": {},
   "source": [
    "# Week 3 - Optimize ETL Processes\n",
    "\n",
    "You’ll learn about optimization techniques including ETL quality testing, data schema validation, business rule verification, and general performance testing. You’ll also explore data integrity and learn how built-in quality checks defend against potential problems. Finally, you’ll focus on verifying business rules and general performance testing to make sure pipelines meet the intended business need.\n",
    "\n",
    "## Learning Objectives\n",
    "\n",
    "- Discover strategies to create an ETL process that works to meet organizational and stakeholder needs and how to maintain an ETL process efficiently.\n",
    "\n",
    "- Introduce tools used in ETL\n",
    "\n",
    "- Understand the primary goals of ETL quality testing.\n",
    "\n",
    "- Understand the primary goals of data schema validation.\n",
    "\n",
    "- Develop ETL quality testing and data schema validation best practices.\n",
    "\n",
    "- Identify and implement appropriate test scenarios and checkpoints for QA on data pipelines.\n",
    "\n",
    "- Explain different methods for QA data in the pipeline.\n",
    "\n",
    "- Create performance testing scenarios and measure performance throughout the pipeline.\n",
    "\n",
    "- Verify business rules.\n",
    "\n",
    "- Perform general performance testing."
   ]
  },
  {
   "cell_type": "markdown",
   "metadata": {},
   "source": []
  }
 ],
 "metadata": {
  "kernelspec": {
   "display_name": "Google-Cert-Env",
   "language": "python",
   "name": "python3"
  },
  "language_info": {
   "name": "python",
   "version": "3.10.6"
  },
  "orig_nbformat": 4
 },
 "nbformat": 4,
 "nbformat_minor": 2
}
