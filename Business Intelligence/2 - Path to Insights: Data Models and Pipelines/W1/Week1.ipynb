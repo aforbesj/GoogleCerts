{
 "cells": [
  {
   "attachments": {},
   "cell_type": "markdown",
   "metadata": {},
   "source": [
    "# Weej 1 - Data Models and Pipelines\n",
    "\n",
    "## Get Started with Data Modeling, Schemas, and Databases"
   ]
  }
 ],
 "metadata": {
  "language_info": {
   "name": "python"
  },
  "orig_nbformat": 4
 },
 "nbformat": 4,
 "nbformat_minor": 2
}
