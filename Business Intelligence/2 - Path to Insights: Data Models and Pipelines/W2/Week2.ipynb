{
 "cells": [
  {
   "attachments": {},
   "cell_type": "markdown",
   "metadata": {},
   "source": [
    "# Week 2 - Dynamic Database Design\n",
    "\n",
    "You’ll learn more about database systems, including data marts, data lakes, data warehouses, and ETL processes. You’ll also investigate the five factors of database performance: workload, throughput, resources, optimization, and contention. Finally, you’ll consider how to design efficient queries that get the most from a system.\n",
    "\n",
    "## Learning Objectives\n",
    "\n",
    "- Discover strategies to create an ETL process that works to meet organizational and stakeholder needs and maintain an ETL process efficiently.\n",
    "\n",
    "- Understand what the different data storage and extraction processes and tools may include (Extract/L: Stitch/Segment/Fivetran, Transform: DBT/Airflow/Looker).\n",
    "\n",
    "- Explain how to optimize when building new tables.\n",
    "\n",
    "- Identify and describe where new tables can fit in the pipeline.\n",
    "\n",
    "- Recognize the different aspects of databases, including OLAP and OLTP, columnar and relational, distributed and single-homed databases.\n",
    "\n",
    "- Understand the importance of database performance and optimization.\n",
    "\n",
    "- Describe the different five factors of database performance: workload, throughput, resources, optimization, and contention.\n",
    "\n",
    "- Perform pipeline debugging using queries."
   ]
  },
  {
   "attachments": {},
   "cell_type": "markdown",
   "metadata": {},
   "source": [
    "## Database Performance\n",
    "\n"
   ]
  }
 ],
 "metadata": {
  "language_info": {
   "name": "python"
  },
  "orig_nbformat": 4
 },
 "nbformat": 4,
 "nbformat_minor": 2
}
